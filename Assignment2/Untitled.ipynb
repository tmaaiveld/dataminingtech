{
 "cells": [
  {
   "cell_type": "code",
   "execution_count": 1,
   "metadata": {},
   "outputs": [],
   "source": [
    "import pandas as pd\n",
    "import os\n",
    "import numpy as np"
   ]
  },
  {
   "cell_type": "code",
   "execution_count": 43,
   "metadata": {},
   "outputs": [],
   "source": [
    "path = r\"C:\\Users\\janse\\OneDrive\\Bureaublad\\Master\\Data Mining Techniques\\Assignment 2\"\n",
    "testpath = os.path.join(path, 'test_set_VU_DM.csv')\n",
    "trainpath = os.path.join(path, 'training_set_VU_DM.csv')\n",
    "samplepath = os.path.join(path, 'train_sample.csv')\n",
    "train = pd.read_csv(trainpath, nrows=2000000)\n",
    "train.date_time = pd.to_datetime(train.date_time)\n"
   ]
  },
  {
   "cell_type": "markdown",
   "metadata": {},
   "source": [
    "# Extract house features.\n",
    "Price_usd is transformed logaritmically to improve distribution.\n",
    "Nulls are filled with the average of the column.\n",
    "4603 houses in the dataset."
   ]
  },
  {
   "cell_type": "code",
   "execution_count": null,
   "metadata": {},
   "outputs": [],
   "source": [
    "prop_cols = [x  for x in train.columns if x.startswith('prop_')]\n",
    "prop_cols.append('price_usd')\n",
    "avg_house_props = sample[prop_cols].groupby('prop_id').agg('mean')\n",
    "avg_house_props.price_usd_log = np.log(avg_house_props.price_usd)\n",
    "avg_house_props.fillna(avg_house_props.mean(), inplace=True)"
   ]
  },
  {
   "cell_type": "code",
   "execution_count": null,
   "metadata": {},
   "outputs": [],
   "source": [
    "from sklearn.cluster import KMeans\n",
    "\n",
    "class clusters:\n",
    "    def __init__(self, clusters, searches):\n",
    "        kmean = KMeans(n_clusters=clusters)\n",
    "        kmean.fit(searches)\n",
    "        self.clusters = kmean\n",
    "    def assign(self, search_terms):\n",
    "        return self.clusters.predict(search_terms)\n",
    "\n",
    "cols = [x for x in train.columns if x.startswith('srch_')]\n",
    "search_info = train[cols].drop('srch_query_affinity_score', axis=1).drop_duplicates()\n",
    "\n",
    "search_info.drop(['srch_id','srch_destination_id'], axis=1, inplace=True)\n",
    "groups = clusters(10, search_info)\n",
    "\n",
    "search_info['search_group'] = groups.assign(search_info)\n",
    "search_info.head(20)\n"
   ]
  },
  {
   "cell_type": "markdown",
   "metadata": {},
   "source": [
    "# Popular properties"
   ]
  },
  {
   "cell_type": "code",
   "execution_count": null,
   "metadata": {},
   "outputs": [],
   "source": [
    "# bookings = train[['prop_id', 'booking_bool']].groupby('prop_id').agg('sum').reset_index()\n",
    "# bookings = bookings.sort_values('booking_bool',ascending=False).rename({'booking_bool':'bookings'},axis=1)\n",
    "# days_occupied = train[train.booking_bool == 1][['prop_id', 'srch_length_of_stay']].groupby('prop_id').agg('sum').reset_index()\n",
    "# days_occupied = days_occupied.rename({'srch_length_of_stay':'days_booked'},axis=1)\n",
    "# popular_props = bookings.merge(days_occupied, on='prop_id', how='outer').sort_values('days_booked', ascending=False)\n",
    "\n",
    "popular_props = train[['prop_id','booking_bool', 'click_bool']].groupby('prop_id').agg('mean').sort_values('booking_bool', ascending = False)\n",
    "#train[['prop_id','search_id']].groupby('prop_id').agg('count').reset_index().rename({'search_id': 'popups'}, axis=1)\n",
    "popular_props = popular_props.merge(train[['prop_id','srch_id']].groupby('prop_id').agg('count').reset_index().rename({'srch_id': 'popups'}, axis=1), on='prop_id')\n",
    "popular_props = popular_props[popular_props.popups > 5].head()"
   ]
  },
  {
   "cell_type": "markdown",
   "metadata": {},
   "source": [
    "# Benchmark model\n",
    "Use the most popular houses (based on the amount of bookings) to rank houses from the search term."
   ]
  },
  {
   "cell_type": "code",
   "execution_count": null,
   "metadata": {},
   "outputs": [],
   "source": [
    "result = train[['prop_id','srch_id']].merge(popular_props[popular_props.popups > 5][['prop_id', 'booking_bool']][popular_props.popups > 5], on='prop_id', how='outer')\n",
    "result = result.fillna(0).sort_values(['srch_id', 'booking_bool'], ascending=[True, False])\n",
    "labels = train[['srch_id','prop_id', 'click_bool', 'booking_bool']]\n",
    "labels['label'] = labels['click_bool'] + 4 * labels['booking_bool']\n",
    "result = result.merge(labels[['prop_id', 'srch_id', 'label']], on=['prop_id', 'srch_id'])\n"
   ]
  },
  {
   "cell_type": "markdown",
   "metadata": {},
   "source": [
    "# Features"
   ]
  },
  {
   "cell_type": "code",
   "execution_count": 49,
   "metadata": {
    "collapsed": true
   },
   "outputs": [
    {
     "name": "stdout",
     "output_type": "stream",
     "text": [
      "0      0.0\n",
      "1      0.0\n",
      "2      0.0\n",
      "3    -15.0\n",
      "4      0.0\n",
      "5      0.0\n",
      "6      0.0\n",
      "7      0.0\n",
      "8      0.0\n",
      "9      0.0\n",
      "10    11.0\n",
      "11    26.0\n",
      "12     0.0\n",
      "13     0.0\n",
      "14     0.0\n",
      "15    28.0\n",
      "16     5.0\n",
      "17     0.0\n",
      "18     0.0\n",
      "19     0.0\n",
      "Name: comp_rate_percent_diff_cumm, dtype: float64\n",
      "['comp1_rate_percent_diff', 'comp2_rate_percent_diff', 'comp3_rate_percent_diff', 'comp4_rate_percent_diff', 'comp5_rate_percent_diff', 'comp6_rate_percent_diff', 'comp7_rate_percent_diff', 'comp8_rate_percent_diff']\n",
      "Index(['srch_id', 'date_time', 'site_id', 'visitor_location_country_id',\n",
      "       'visitor_hist_starrating', 'visitor_hist_adr_usd', 'prop_country_id',\n",
      "       'prop_id', 'prop_starrating', 'prop_review_score', 'prop_brand_bool',\n",
      "       'prop_location_score1', 'prop_location_score2',\n",
      "       'prop_log_historical_price', 'position', 'price_usd', 'promotion_flag',\n",
      "       'srch_destination_id', 'srch_length_of_stay', 'srch_booking_window',\n",
      "       'srch_adults_count', 'srch_children_count', 'srch_room_count',\n",
      "       'srch_saturday_night_bool', 'srch_query_affinity_score',\n",
      "       'orig_destination_distance', 'random_bool', 'comp1_rate', 'comp1_inv',\n",
      "       'comp1_rate_percent_diff', 'comp2_rate', 'comp2_inv',\n",
      "       'comp2_rate_percent_diff', 'comp3_rate', 'comp3_inv',\n",
      "       'comp3_rate_percent_diff', 'comp4_rate', 'comp4_inv',\n",
      "       'comp4_rate_percent_diff', 'comp5_rate', 'comp5_inv',\n",
      "       'comp5_rate_percent_diff', 'comp6_rate', 'comp6_inv',\n",
      "       'comp6_rate_percent_diff', 'comp7_rate', 'comp7_inv',\n",
      "       'comp7_rate_percent_diff', 'comp8_rate', 'comp8_inv',\n",
      "       'comp8_rate_percent_diff', 'click_bool', 'gross_bookings_usd',\n",
      "       'booking_bool', 'comp_rate_percent_diff_cumm'],\n",
      "      dtype='object')\n",
      "Index(['srch_id', 'date_time', 'site_id', 'visitor_location_country_id',\n",
      "       'visitor_hist_starrating', 'visitor_hist_adr_usd', 'prop_country_id',\n",
      "       'prop_id', 'prop_starrating', 'prop_review_score', 'prop_brand_bool',\n",
      "       'prop_location_score1', 'prop_location_score2',\n",
      "       'prop_log_historical_price', 'position', 'price_usd', 'promotion_flag',\n",
      "       'srch_destination_id', 'srch_length_of_stay', 'srch_booking_window',\n",
      "       'srch_adults_count', 'srch_children_count', 'srch_room_count',\n",
      "       'srch_saturday_night_bool', 'srch_query_affinity_score',\n",
      "       'orig_destination_distance', 'random_bool', 'click_bool',\n",
      "       'gross_bookings_usd', 'booking_bool', 'comp_rate_percent_diff_cumm'],\n",
      "      dtype='object')\n"
     ]
    }
   ],
   "source": [
    "# Cumulative competitor scores\n",
    "\n",
    "cols = [col for col in train.columns if col.endswith('rate_percent_diff')]\n",
    "cols2 = [col for col in train.columns if col.endswith('_rate')]\n",
    "cols3 = [col for col in train.columns if col.endswith('_inv')]\n",
    "\n",
    "train2 = train\n",
    "train2['comp_rate_percent_diff_cumm'] = 0\n",
    "\n",
    "for col1, col2, col3 in zip(cols, cols2, cols3):\n",
    "    train2['comp_rate_percent_diff_cumm'] += train2[col1].fillna(0) * train2[col2].fillna(0) * (1 - train2[col3].fillna(0))\n",
    "\n",
    "train2 = train2.drop(cols, axis=1)\n",
    "train2 = train2.drop(cols2, axis=1)\n",
    "train2 = train2.drop(cols3, axis=1)"
   ]
  },
  {
   "cell_type": "code",
   "execution_count": null,
   "metadata": {},
   "outputs": [],
   "source": [
    "from sklearn.cluster import KMeans\n",
    "\n",
    "class search_clusters:\n",
    "    def __init__(self, clusters, searches):\n",
    "        kmean = KMeans(n_clusters=clusters)\n",
    "        kmean.fit(searches)\n",
    "        self.clusters = kmean\n",
    "    def assign(self, search_terms):\n",
    "        return self.clusters.predict(search_terms)\n",
    "\n",
    "cols = [x for x in train2.columns if x.startswith('srch_')]\n",
    "clusters = train2[cols].drop('srch_query_affinity_score', axis=1).drop_duplicates()\n",
    "\n",
    "clusters.drop(['srch_id','srch_destination_id'], axis=1, inplace=True)\n",
    "groups = search_clusters(30, clusters)\n",
    "\n",
    "clusters['search_group'] = groups.assign(clusters)\n",
    "clusters.head(20)"
   ]
  },
  {
   "cell_type": "markdown",
   "metadata": {},
   "source": [
    "# Evaluation"
   ]
  },
  {
   "cell_type": "code",
   "execution_count": 18,
   "metadata": {},
   "outputs": [],
   "source": [
    "def dcg_at_k(r, k):\n",
    "    r = np.asfarray(r)[:k]\n",
    "    if r.size:\n",
    "        return np.sum(np.subtract(np.power(2, r), 1) / np.log2(np.arange(2, r.size + 2)))\n",
    "    return 0.\n",
    "\n",
    "\n",
    "def ndcg_at_k(r, k):\n",
    "    idcg = dcg_at_k(sorted(r, reverse=True), k)\n",
    "    if not idcg:\n",
    "        return 0.\n",
    "    return dcg_at_k(r, k) / idcg"
   ]
  },
  {
   "cell_type": "code",
   "execution_count": 21,
   "metadata": {
    "scrolled": true
   },
   "outputs": [],
   "source": [
    "def eval_ndcg(df, srch_id_col, predict_col, value_col):\n",
    "    df = df.sort_values(predict_col)\n",
    "    k = 5\n",
    "    ndcgs = []\n",
    "    for i, srchid in enumerate(df[srch_id_col].unique()):\n",
    "        if i % 10000 == 0 and i != 0:\n",
    "            print(i)\n",
    "            print(np.mean(ndcgs))\n",
    "            print(r)\n",
    "        r = df[df[srch_id_col] == srchid][value_col]\n",
    "        ndcgs.append(ndcg_at_k(r,k))\n",
    "\n",
    "    print(np.mean(ndcgs))\n"
   ]
  },
  {
   "cell_type": "code",
   "execution_count": 52,
   "metadata": {},
   "outputs": [
    {
     "name": "stdout",
     "output_type": "stream",
     "text": [
      "['srch_id', 'srch_destination_id', 'srch_length_of_stay', 'srch_booking_window', 'srch_adults_count', 'srch_children_count', 'srch_room_count', 'srch_saturday_night_bool', 'srch_query_affinity_score', 'prop_country_id', 'prop_id', 'prop_starrating', 'prop_review_score', 'prop_brand_bool', 'prop_location_score1', 'prop_location_score2', 'prop_log_historical_price', 'price_usd', 'orig_destination_distance', 'promotion_flag']\n"
     ]
    }
   ],
   "source": [
    "cols = [x for x in train2.columns if x.startswith('srch_')]\n",
    "cols.extend([x for x in train2.columns if x.startswith('prop_')])\n",
    "cols.extend(['price_usd','orig_destination_distance', 'promotion_flag'])\n",
    "print(cols)\n",
    "\n",
    "X = train2.fillna(0)\n",
    "y = train2.click_bool + 4 * train2.booking_bool\n",
    "X = X.drop(['click_bool','booking_bool', 'date_time'], axis=1)"
   ]
  },
  {
   "cell_type": "code",
   "execution_count": null,
   "metadata": {},
   "outputs": [],
   "source": [
    "from sklearn.model_selection import train_test_split  \n",
    "\n",
    "X_train, X_test, y_train, y_test = train_test_split(X, y, test_size=0.2)  \n",
    "\n",
    "from sklearn.neighbors import KNeighborsClassifier  \n",
    "classifier = KNeighborsClassifier(n_neighbors=5)  \n",
    "classifier.fit(X_train, y_train)  \n",
    "\n",
    "y_pred = classifier.predict(X_test)"
   ]
  },
  {
   "cell_type": "code",
   "execution_count": null,
   "metadata": {},
   "outputs": [],
   "source": [
    "results = pd.DataFrame({'srch_id': X_test.srch_id, 'predicted': y_pred, 'actual' : y_test})\n",
    "eval_score = eval_ndcg(results, 'srch_id', 'predicted', 'actual')\n"
   ]
  },
  {
   "cell_type": "code",
   "execution_count": null,
   "metadata": {},
   "outputs": [],
   "source": []
  }
 ],
 "metadata": {
  "kernelspec": {
   "display_name": "Python 3",
   "language": "python",
   "name": "python3"
  },
  "language_info": {
   "codemirror_mode": {
    "name": "ipython",
    "version": 3
   },
   "file_extension": ".py",
   "mimetype": "text/x-python",
   "name": "python",
   "nbconvert_exporter": "python",
   "pygments_lexer": "ipython3",
   "version": "3.6.5"
  }
 },
 "nbformat": 4,
 "nbformat_minor": 2
}

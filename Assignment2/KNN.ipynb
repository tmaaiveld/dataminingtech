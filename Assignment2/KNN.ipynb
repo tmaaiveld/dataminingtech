{
 "cells": [
  {
   "cell_type": "code",
   "execution_count": 1,
   "metadata": {},
   "outputs": [],
   "source": [
    "import pandas as pd\n",
    "import os\n",
    "import numpy as np\n",
    "from sklearn.model_selection import train_test_split  \n",
    "import xgboost as xgb\n",
    "import warnings\n",
    "warnings.filterwarnings('ignore')"
   ]
  },
  {
   "cell_type": "code",
   "execution_count": 11,
   "metadata": {},
   "outputs": [],
   "source": [
    "# specifying some paths\n",
    "path = r\"C:\\Users\\janse\\OneDrive\\Bureaublad\\Master\\Data Mining Techniques\\Repo\\Assignment2\"\n",
    "testpath = os.path.join(path, 'data', 'test_set_VU_DM.csv')\n",
    "trainpath = os.path.join(path, 'data', 'training_set_VU_DM.csv')\n",
    "samplepath = os.path.join(path, 'data', 'train_sample.csv')\n",
    "resultpath = os.path.join(path, 'data', 'result.csv')\n"
   ]
  },
  {
   "cell_type": "code",
   "execution_count": 12,
   "metadata": {},
   "outputs": [],
   "source": [
    "# load train_main\n",
    "# made a function for quick reusability during development\n",
    "def reload_train():\n",
    "    train_main = pd.read_csv(trainpath)\n",
    "    train_main.date_time = pd.to_datetime(train_main.date_time)\n",
    "    return train_main"
   ]
  },
  {
   "cell_type": "code",
   "execution_count": 13,
   "metadata": {},
   "outputs": [],
   "source": [
    "train_main = reload_train()"
   ]
  },
  {
   "cell_type": "markdown",
   "metadata": {},
   "source": [
    "# Evaluation"
   ]
  },
  {
   "cell_type": "code",
   "execution_count": 19,
   "metadata": {},
   "outputs": [],
   "source": [
    "\n",
    "def dcg_at_k(r, k):\n",
    "    r = np.asfarray(r)[:k]\n",
    "    if r.size:\n",
    "        return np.sum(np.subtract(np.power(2, r), 1) / np.log2(np.arange(2, r.size + 2)))\n",
    "    return 0.\n",
    "\n",
    "\n",
    "def ndcg_at_k(r, k):\n",
    "    idcg = dcg_at_k(sorted(r, reverse=True), k)\n",
    "    if not idcg:\n",
    "        return 0.\n",
    "    return dcg_at_k(r, k) / idcg\n",
    "\n",
    "def eval_ndcg(df, srch_id_col, predict_col, value_col, n=9999999999999999):\n",
    "    df = df.sort_values([srch_id_col, predict_col], ascending=False)\n",
    "    k = 5\n",
    "    ndcgs = []\n",
    "    for i, srchid in enumerate(df[srch_id_col].unique()):\n",
    "        if i == n:\n",
    "            break\n",
    "        if i % 10000 == 0 and i != 0:\n",
    "            print(i)\n",
    "            print(np.mean(ndcgs))\n",
    "        r = df[df[srch_id_col] == srchid][value_col]\n",
    "        ndcgs.append(ndcg_at_k(r,k))\n",
    "\n",
    "    print(np.mean(ndcgs))\n"
   ]
  },
  {
   "cell_type": "code",
   "execution_count": 15,
   "metadata": {
    "scrolled": true
   },
   "outputs": [],
   "source": []
  },
  {
   "cell_type": "code",
   "execution_count": 17,
   "metadata": {},
   "outputs": [
    {
     "name": "stdout",
     "output_type": "stream",
     "text": [
      "['srch_id', 'srch_destination_id', 'srch_length_of_stay', 'srch_booking_window', 'srch_adults_count', 'srch_children_count', 'srch_room_count', 'srch_saturday_night_bool', 'srch_query_affinity_score', 'prop_country_id', 'prop_id', 'prop_starrating', 'prop_review_score', 'prop_brand_bool', 'prop_location_score1', 'prop_location_score2', 'prop_log_historical_price', 'promotion_flag', 'random_bool', 'click_bool', 'booking_bool']\n"
     ]
    }
   ],
   "source": [
    "# select columns\n",
    "cols = [x for x in train_main.columns if x.startswith('srch_')]\n",
    "cols.extend([x for x in train_main.columns if x.startswith('prop_')])\n",
    "cols.extend(['promotion_flag', 'random_bool', 'click_bool', 'booking_bool'])\n",
    "#cols.extend(['price_usd','orig_destination_distance', 'promotion_flag'])\n",
    "print(cols)\n",
    "\n",
    "X = train_main[cols].fillna(0)\n",
    "y = train_main.click_bool + 4 * train_main.booking_bool\n",
    "X = X.drop(['click_bool','booking_bool'], axis=1)"
   ]
  },
  {
   "cell_type": "markdown",
   "metadata": {},
   "source": [
    "# Nearest Neighbour"
   ]
  },
  {
   "cell_type": "code",
   "execution_count": null,
   "metadata": {},
   "outputs": [],
   "source": [
    "from sklearn.model_selection import train_test_split  \n",
    "from sklearn.neighbors import KNeighborsClassifier  \n",
    "\n",
    "X_train, X_test, y_train, y_test = train_test_split(X, y, test_size=0.2)  \n",
    "\n",
    "\n",
    "classifier = KNeighborsClassifier(n_neighbors=40)  \n",
    "classifier.fit(X_train, y_train)  \n",
    "\n",
    "y_pred = classifier.predict(X_test)"
   ]
  },
  {
   "cell_type": "code",
   "execution_count": null,
   "metadata": {},
   "outputs": [],
   "source": [
    "# evaluation\n",
    "results = pd.DataFrame({'srch_id': X_test.srch_id, 'predicted': y_pred, 'actual' : y_test})\n",
    "eval_score = eval_ndcg(results, 'srch_id', 'predicted', 'actual')"
   ]
  }
 ],
 "metadata": {
  "kernelspec": {
   "display_name": "Python 3",
   "language": "python",
   "name": "python3"
  },
  "language_info": {
   "codemirror_mode": {
    "name": "ipython",
    "version": 3
   },
   "file_extension": ".py",
   "mimetype": "text/x-python",
   "name": "python",
   "nbconvert_exporter": "python",
   "pygments_lexer": "ipython3",
   "version": "3.6.5"
  }
 },
 "nbformat": 4,
 "nbformat_minor": 2
}
